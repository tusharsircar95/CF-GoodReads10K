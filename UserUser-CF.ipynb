{
  "nbformat": 4,
  "nbformat_minor": 0,
  "metadata": {
    "colab": {
      "name": "GoodReads10K - CF Recommendation Systems",
      "version": "0.3.2",
      "provenance": [],
      "collapsed_sections": []
    },
    "kernelspec": {
      "name": "python3",
      "display_name": "Python 3"
    }
  },
  "cells": [
    {
      "cell_type": "code",
      "metadata": {
        "id": "Zs3719P4Stur",
        "colab_type": "code",
        "colab": {}
      },
      "source": [
        "import pandas as pd\n",
        "import numpy as np\n",
        "import tensorflow as tf\n",
        "import matplotlib.pyplot as plt\n",
        "from random import shuffle\n",
        "import operator"
      ],
      "execution_count": 0,
      "outputs": []
    },
    {
      "cell_type": "code",
      "metadata": {
        "id": "RjXS1f2cjjwJ",
        "colab_type": "code",
        "outputId": "28df16ea-d9e2-4bf8-d0ac-d4724f40f486",
        "colab": {
          "base_uri": "https://localhost:8080/",
          "height": 119
        }
      },
      "source": [
        "! git clone https://github.com/tusharsircar95/CF-MovieLens"
      ],
      "execution_count": 2,
      "outputs": [
        {
          "output_type": "stream",
          "text": [
            "Cloning into 'CF-MovieLens'...\n",
            "remote: Enumerating objects: 6, done.\u001b[K\n",
            "remote: Counting objects: 100% (6/6), done.\u001b[K\n",
            "remote: Compressing objects: 100% (5/5), done.\u001b[K\n",
            "remote: Total 6 (delta 0), reused 6 (delta 0), pack-reused 0\n",
            "Unpacking objects: 100% (6/6), done.\n"
          ],
          "name": "stdout"
        }
      ]
    },
    {
      "cell_type": "code",
      "metadata": {
        "id": "4-u3vodi1yh2",
        "colab_type": "code",
        "outputId": "574a1579-e8ba-4d9c-ad36-243d116fff4f",
        "colab": {
          "base_uri": "https://localhost:8080/",
          "height": 204
        }
      },
      "source": [
        "df_orig = pd.read_csv('CF-MovieLens/ratings.csv')\n",
        "df_orig.head()"
      ],
      "execution_count": 3,
      "outputs": [
        {
          "output_type": "execute_result",
          "data": {
            "text/html": [
              "<div>\n",
              "<style scoped>\n",
              "    .dataframe tbody tr th:only-of-type {\n",
              "        vertical-align: middle;\n",
              "    }\n",
              "\n",
              "    .dataframe tbody tr th {\n",
              "        vertical-align: top;\n",
              "    }\n",
              "\n",
              "    .dataframe thead th {\n",
              "        text-align: right;\n",
              "    }\n",
              "</style>\n",
              "<table border=\"1\" class=\"dataframe\">\n",
              "  <thead>\n",
              "    <tr style=\"text-align: right;\">\n",
              "      <th></th>\n",
              "      <th>user_id</th>\n",
              "      <th>book_id</th>\n",
              "      <th>rating</th>\n",
              "    </tr>\n",
              "  </thead>\n",
              "  <tbody>\n",
              "    <tr>\n",
              "      <th>0</th>\n",
              "      <td>1</td>\n",
              "      <td>258</td>\n",
              "      <td>5</td>\n",
              "    </tr>\n",
              "    <tr>\n",
              "      <th>1</th>\n",
              "      <td>2</td>\n",
              "      <td>4081</td>\n",
              "      <td>4</td>\n",
              "    </tr>\n",
              "    <tr>\n",
              "      <th>2</th>\n",
              "      <td>2</td>\n",
              "      <td>260</td>\n",
              "      <td>5</td>\n",
              "    </tr>\n",
              "    <tr>\n",
              "      <th>3</th>\n",
              "      <td>2</td>\n",
              "      <td>9296</td>\n",
              "      <td>5</td>\n",
              "    </tr>\n",
              "    <tr>\n",
              "      <th>4</th>\n",
              "      <td>2</td>\n",
              "      <td>2318</td>\n",
              "      <td>3</td>\n",
              "    </tr>\n",
              "  </tbody>\n",
              "</table>\n",
              "</div>"
            ],
            "text/plain": [
              "   user_id  book_id  rating\n",
              "0        1      258       5\n",
              "1        2     4081       4\n",
              "2        2      260       5\n",
              "3        2     9296       5\n",
              "4        2     2318       3"
            ]
          },
          "metadata": {
            "tags": []
          },
          "execution_count": 3
        }
      ]
    },
    {
      "cell_type": "code",
      "metadata": {
        "id": "2UvofzeWdi8i",
        "colab_type": "code",
        "outputId": "fba87a8f-0d7c-433b-b962-eabc18f23e59",
        "colab": {
          "base_uri": "https://localhost:8080/",
          "height": 68
        }
      },
      "source": [
        "print(len(df_orig.user_id.unique()))\n",
        "print((df_orig.user_id.min()))\n",
        "print(df_orig.user_id.max())"
      ],
      "execution_count": 4,
      "outputs": [
        {
          "output_type": "stream",
          "text": [
            "53424\n",
            "1\n",
            "53424\n"
          ],
          "name": "stdout"
        }
      ]
    },
    {
      "cell_type": "code",
      "metadata": {
        "id": "Z0jMDldKdl7K",
        "colab_type": "code",
        "outputId": "46d3c072-2359-46a1-e43d-170b5c003330",
        "colab": {
          "base_uri": "https://localhost:8080/",
          "height": 68
        }
      },
      "source": [
        "print(len(df_orig.rating.unique()))\n",
        "print((df_orig.rating.min()))\n",
        "print(df_orig.rating.max())"
      ],
      "execution_count": 5,
      "outputs": [
        {
          "output_type": "stream",
          "text": [
            "5\n",
            "1\n",
            "5\n"
          ],
          "name": "stdout"
        }
      ]
    },
    {
      "cell_type": "code",
      "metadata": {
        "id": "wVs0Ntc9eEDX",
        "colab_type": "code",
        "outputId": "49d1df31-b716-4b5b-a5fd-ba660b20bbe9",
        "colab": {
          "base_uri": "https://localhost:8080/",
          "height": 68
        }
      },
      "source": [
        "print(len(df_orig.book_id.unique()))\n",
        "print((df_orig.book_id.min()))\n",
        "print(df_orig.book_id.max())"
      ],
      "execution_count": 6,
      "outputs": [
        {
          "output_type": "stream",
          "text": [
            "10000\n",
            "1\n",
            "10000\n"
          ],
          "name": "stdout"
        }
      ]
    },
    {
      "cell_type": "code",
      "metadata": {
        "id": "s48ka44yeeh9",
        "colab_type": "code",
        "colab": {}
      },
      "source": [
        "# Number of users\n",
        "N = 100 \n",
        "\n",
        "# Number of books\n",
        "M = 100\n",
        "\n",
        "def select_user_ids(df_orig, N):\n",
        "  df = pd.DataFrame(df_orig.pivot_table(index='user_id',values='rating',aggfunc='count').to_records())\n",
        "  df = df.sort_values(by='rating',ascending=False)\n",
        "  return np.array(df.user_id[:N])\n",
        "\n",
        "def select_book_ids(df_orig, M):\n",
        "  df = pd.DataFrame(df_orig.pivot_table(index='book_id',values='rating',aggfunc='count').to_records())\n",
        "  df = df.sort_values(by='rating',ascending=False)\n",
        "  return np.array(df.book_id[:M])\n",
        "\n",
        "\n",
        "\n",
        "def shrink_and_relabel_dataset(df_orig, N,M):\n",
        "  \n",
        "  df_orig = df_orig.sample(frac=1).reset_index(drop=True)\n",
        "  \n",
        "  user_ids = select_user_ids(df_orig,N)\n",
        "  book_ids = select_book_ids(df_orig,M)\n",
        "  \n",
        "  user_id_to_idx = {}\n",
        "  book_id_to_idx = {}\n",
        "  for idx,user_id in enumerate(user_ids):\n",
        "    user_id_to_idx[user_id] = idx\n",
        "  for idx,book_id in enumerate(book_ids):\n",
        "    book_id_to_idx[book_id] = idx\n",
        "  \n",
        "  df = df_orig.copy()\n",
        "  df = df[df.user_id.isin(user_ids)]\n",
        "  df = df[df.book_id.isin(book_ids)]\n",
        "  df.loc[:,'user_id'] = df.apply(lambda x: user_id_to_idx[x['user_id']],axis=1)\n",
        "  df.loc[:,'book_id'] = df.apply(lambda x: book_id_to_idx[x['book_id']],axis=1)\n",
        "  \n",
        "  return df\n",
        "  \n",
        "def generate_train_val_test_sets(df):\n",
        "  n = len(df)\n",
        "  \n",
        "  train_ratio = 0.80\n",
        "  val_ratio = 0.10\n",
        "  test_ratio = 0.10\n",
        "  \n",
        "  df_train = df.iloc[:int(n*train_ratio)]\n",
        "  df_val = df.iloc[int(n*train_ratio):int(n*(train_ratio+val_ratio))]\n",
        "  df_test = df.iloc[int(n*(train_ratio+val_ratio)):]\n",
        "  \n",
        "  return df_train, df_val, df_test\n",
        "  \n",
        "  \n",
        "def generate_mapping(df):\n",
        "  user_to_book = {}\n",
        "  book_to_user = {}\n",
        "  rating_matrix = {}\n",
        "  mean_ratings = {}\n",
        "  \n",
        "  for index,row in df.iterrows():\n",
        "    user_id = row['user_id']\n",
        "    book_id = row['book_id']\n",
        "    rating = row['rating']\n",
        "    \n",
        "    if not user_id in user_to_book:\n",
        "      user_to_book[user_id] = []\n",
        "    if not book_id in book_to_user:\n",
        "      book_to_user[book_id] = []\n",
        "    if not user_id in rating_matrix:\n",
        "      rating_matrix[user_id] = {}\n",
        "    user_to_book[user_id].append(book_id)\n",
        "    book_to_user[book_id].append(user_id)\n",
        "    rating_matrix[user_id][book_id] = rating\n",
        "    \n",
        "  for user_id in user_to_book.keys():\n",
        "    ratings = []\n",
        "    for book_id in user_to_book[user_id]:\n",
        "      ratings.append(rating_matrix[user_id][book_id])\n",
        "    mean_ratings[user_id] = np.mean(ratings)\n",
        "    \n",
        "  return user_to_book, book_to_user, rating_matrix, mean_ratings\n",
        "\n",
        "\n",
        "def calculate_correlation(data, user_id1, user_id2):\n",
        "  \n",
        "  pass\n",
        "\n",
        "def get_mse(training_data=None, eval_data=None, limit=5, K = 20, params=None):\n",
        "  user_to_book, book_to_user, rating_matrix, mean_ratings = generate_mapping(training_data)\n",
        "  print('Calculated mappings...')\n",
        "  \n",
        "  predictions = []\n",
        "  target_ratings = []\n",
        "  no_means = 0\n",
        "  \n",
        "  print('Proceeding to evaluate %d datapoints...'%len(eval_data))\n",
        "  # Calculate estimated rating for each datapoint in eval_data\n",
        "  datapoints = 0\n",
        "  for index,row in eval_data.iterrows():\n",
        "    user_id = row['user_id']\n",
        "    book_id = row['book_id']\n",
        "    rating = row['rating']\n",
        "    \n",
        "    if user_id in mean_ratings:\n",
        "      default_rating = mean_ratings[user_id]\n",
        "    else: \n",
        "      default_rating = 3\n",
        "      no_means = no_means + 1\n",
        "    \n",
        "    if datapoints % 500 == 0:\n",
        "      print('Evaluated data points: ', datapoints)\n",
        "    datapoints = datapoints + 1\n",
        "    \n",
        "    if book_id in book_to_user:\n",
        "      numerator = 0.0\n",
        "      denominator = 0.0\n",
        "      weights_and_ratings = []\n",
        "      \n",
        "      for id in book_to_user[book_id]:\n",
        "        if id == user_id:\n",
        "          continue\n",
        "\n",
        "        if user_id in user_to_book:\n",
        "          books_to_consider = np.intersect1d(user_to_book[user_id],user_to_book[id],assume_unique=True)\n",
        "        else: books_to_consider = []\n",
        "\n",
        "        # Skip this user if enough common books are not available\n",
        "        if len(books_to_consider) < limit:\n",
        "          continue\n",
        "\n",
        "\n",
        "        ratings_1 = []\n",
        "        ratings_2 = []\n",
        "        for book in books_to_consider:\n",
        "          ratings_1.append(rating_matrix[user_id][book] - default_rating)\n",
        "          ratings_2.append(rating_matrix[id][book] - mean_ratings[id])\n",
        "\n",
        "\n",
        "        w = np.corrcoef(ratings_1,ratings_2)[0][0]\n",
        "        if np.isnan(w):\n",
        "          continue\n",
        "\n",
        "        weights_and_ratings.append((w,rating_matrix[id][book_id]-mean_ratings[id]))\n",
        "\n",
        "         \n",
        "      weights_and_ratings.sort(key = operator.itemgetter(0))\n",
        "      weights_and_ratings.reverse()\n",
        "      select = min(K,len(weights_and_ratings))\n",
        "\n",
        "      for i in range(select):\n",
        "        numerator += weights_and_ratings[i][0] * weights_and_ratings[i][1]\n",
        "        denominator += abs(weights_and_ratings[i][0])\n",
        "\n",
        "\n",
        "      if denominator == 0:\n",
        "        predicted_rating = default_rating\n",
        "      else: predicted_rating = default_rating + numerator / denominator\n",
        "\n",
        "    else: predicted_rating = default_rating\n",
        "      \n",
        "    if predicted_rating < 0:\n",
        "      predicted_rating = 0\n",
        "    if predicted_rating > 5:\n",
        "      predicted_rating = 5\n",
        "    predictions.append(predicted_rating)\n",
        "    target_ratings.append(rating)\n",
        "    \n",
        "  print('New users: ',no_means)\n",
        "  return np.array(predictions), np.array(target_ratings)\n",
        "      \n"
      ],
      "execution_count": 0,
      "outputs": []
    },
    {
      "cell_type": "code",
      "metadata": {
        "id": "2LEmN-fglvFL",
        "colab_type": "code",
        "colab": {}
      },
      "source": [
        "def evaluate_hyperparams(training_data=None, eval_data=None, K=None,limit=None):\n",
        "  if training_data is None or eval_data is None:\n",
        "    print('Invalid data...')\n",
        "  if K is None or limit is None:\n",
        "    print('Invalid hyperparameters...')\n",
        "  predictions, target_ratings = get_mse(training_data=training_data, eval_data=eval_data, K=K, limit=limit)\n",
        "  print('Validation with K = %d, limit = %d'%(K,limit))\n",
        "  print('Error with User CF: ', np.mean(abs(predictions-target_ratings)))\n",
        "  print('Error Baseline: ',np.mean(abs(target_ratings-3.83)))\n"
      ],
      "execution_count": 0,
      "outputs": []
    },
    {
      "cell_type": "code",
      "metadata": {
        "id": "oLo3vdhyS6Vx",
        "colab_type": "code",
        "colab": {}
      },
      "source": [
        "np.random.seed(20110)\n",
        "df_shrinked = shrink_and_relabel_dataset(df_orig,1000,1000)\n",
        "df_train, df_val, df_test = generate_train_val_test_sets(df_shrinked)"
      ],
      "execution_count": 0,
      "outputs": []
    },
    {
      "cell_type": "code",
      "metadata": {
        "id": "fdyKlfIpS8Wo",
        "colab_type": "code",
        "outputId": "ad09d2da-32e5-42f4-c035-febb9356f4a8",
        "colab": {
          "base_uri": "https://localhost:8080/",
          "height": 1000
        }
      },
      "source": [
        "evaluate_hyperparams(K=10,limit=5, training_data=df_train, eval_data=df_val)\n",
        "evaluate_hyperparams(K=20,limit=5, training_data=df_train, eval_data=df_val)\n",
        "evaluate_hyperparams(K=30,limit=5, training_data=df_train, eval_data=df_val)\n",
        "evaluate_hyperparams(K=40,limit=5, training_data=df_train, eval_data=df_val)"
      ],
      "execution_count": 18,
      "outputs": [
        {
          "output_type": "stream",
          "text": [
            "Calculated mappings...\n",
            "Proceeding to evaluate 11404 datapoints...\n",
            "Evaluated data points:  0\n"
          ],
          "name": "stdout"
        },
        {
          "output_type": "stream",
          "text": [
            "/usr/local/lib/python3.6/dist-packages/numpy/lib/function_base.py:2530: RuntimeWarning: invalid value encountered in true_divide\n",
            "  c /= stddev[:, None]\n",
            "/usr/local/lib/python3.6/dist-packages/numpy/lib/function_base.py:2531: RuntimeWarning: invalid value encountered in true_divide\n",
            "  c /= stddev[None, :]\n"
          ],
          "name": "stderr"
        },
        {
          "output_type": "stream",
          "text": [
            "Evaluated data points:  500\n",
            "Evaluated data points:  1000\n",
            "Evaluated data points:  1500\n",
            "Evaluated data points:  2000\n",
            "Evaluated data points:  2500\n",
            "Evaluated data points:  3000\n",
            "Evaluated data points:  3500\n",
            "Evaluated data points:  4000\n",
            "Evaluated data points:  4500\n",
            "Evaluated data points:  5000\n",
            "Evaluated data points:  5500\n",
            "Evaluated data points:  6000\n",
            "Evaluated data points:  6500\n",
            "Evaluated data points:  7000\n",
            "Evaluated data points:  7500\n",
            "Evaluated data points:  8000\n",
            "Evaluated data points:  8500\n",
            "Evaluated data points:  9000\n",
            "Evaluated data points:  9500\n",
            "Evaluated data points:  10000\n",
            "Evaluated data points:  10500\n",
            "Evaluated data points:  11000\n",
            "New users:  0\n",
            "Validation with K = 10, limit = 5\n",
            "Error with User CF:  0.7242223947997671\n",
            "Error Baseline:  0.843042792002806\n",
            "Calculated mappings...\n",
            "Proceeding to evaluate 11404 datapoints...\n",
            "Evaluated data points:  0\n",
            "Evaluated data points:  500\n",
            "Evaluated data points:  1000\n",
            "Evaluated data points:  1500\n",
            "Evaluated data points:  2000\n",
            "Evaluated data points:  2500\n",
            "Evaluated data points:  3000\n",
            "Evaluated data points:  3500\n",
            "Evaluated data points:  4000\n",
            "Evaluated data points:  4500\n",
            "Evaluated data points:  5000\n",
            "Evaluated data points:  5500\n",
            "Evaluated data points:  6000\n",
            "Evaluated data points:  6500\n",
            "Evaluated data points:  7000\n",
            "Evaluated data points:  7500\n",
            "Evaluated data points:  8000\n",
            "Evaluated data points:  8500\n",
            "Evaluated data points:  9000\n",
            "Evaluated data points:  9500\n",
            "Evaluated data points:  10000\n",
            "Evaluated data points:  10500\n",
            "Evaluated data points:  11000\n",
            "New users:  0\n",
            "Validation with K = 20, limit = 5\n",
            "Error with User CF:  0.710284084200408\n",
            "Error Baseline:  0.843042792002806\n",
            "Calculated mappings...\n",
            "Proceeding to evaluate 11404 datapoints...\n",
            "Evaluated data points:  0\n",
            "Evaluated data points:  500\n",
            "Evaluated data points:  1000\n",
            "Evaluated data points:  1500\n",
            "Evaluated data points:  2000\n",
            "Evaluated data points:  2500\n",
            "Evaluated data points:  3000\n",
            "Evaluated data points:  3500\n",
            "Evaluated data points:  4000\n",
            "Evaluated data points:  4500\n",
            "Evaluated data points:  5000\n",
            "Evaluated data points:  5500\n",
            "Evaluated data points:  6000\n",
            "Evaluated data points:  6500\n",
            "Evaluated data points:  7000\n",
            "Evaluated data points:  7500\n",
            "Evaluated data points:  8000\n",
            "Evaluated data points:  8500\n",
            "Evaluated data points:  9000\n",
            "Evaluated data points:  9500\n",
            "Evaluated data points:  10000\n",
            "Evaluated data points:  10500\n",
            "Evaluated data points:  11000\n",
            "New users:  0\n",
            "Validation with K = 30, limit = 5\n",
            "Error with User CF:  0.7074701443242387\n",
            "Error Baseline:  0.843042792002806\n",
            "Calculated mappings...\n",
            "Proceeding to evaluate 11404 datapoints...\n",
            "Evaluated data points:  0\n",
            "Evaluated data points:  500\n",
            "Evaluated data points:  1000\n",
            "Evaluated data points:  1500\n",
            "Evaluated data points:  2000\n",
            "Evaluated data points:  2500\n",
            "Evaluated data points:  3000\n",
            "Evaluated data points:  3500\n",
            "Evaluated data points:  4000\n",
            "Evaluated data points:  4500\n",
            "Evaluated data points:  5000\n",
            "Evaluated data points:  5500\n",
            "Evaluated data points:  6000\n",
            "Evaluated data points:  6500\n",
            "Evaluated data points:  7000\n",
            "Evaluated data points:  7500\n",
            "Evaluated data points:  8000\n",
            "Evaluated data points:  8500\n",
            "Evaluated data points:  9000\n",
            "Evaluated data points:  9500\n",
            "Evaluated data points:  10000\n",
            "Evaluated data points:  10500\n",
            "Evaluated data points:  11000\n",
            "New users:  0\n",
            "Validation with K = 40, limit = 5\n",
            "Error with User CF:  0.7044758727169614\n",
            "Error Baseline:  0.843042792002806\n"
          ],
          "name": "stdout"
        }
      ]
    },
    {
      "cell_type": "code",
      "metadata": {
        "id": "ZRkCQxQjiT74",
        "colab_type": "code",
        "outputId": "e1535d97-884e-485b-e6a4-654d0835ef96",
        "colab": {
          "base_uri": "https://localhost:8080/",
          "height": 598
        }
      },
      "source": [
        "evaluate_hyperparams(K=40,limit=5, training_data=df_train, eval_data=df_test)"
      ],
      "execution_count": 20,
      "outputs": [
        {
          "output_type": "stream",
          "text": [
            "Calculated mappings...\n",
            "Proceeding to evaluate 11405 datapoints...\n",
            "Evaluated data points:  0\n"
          ],
          "name": "stdout"
        },
        {
          "output_type": "stream",
          "text": [
            "/usr/local/lib/python3.6/dist-packages/numpy/lib/function_base.py:2530: RuntimeWarning: invalid value encountered in true_divide\n",
            "  c /= stddev[:, None]\n",
            "/usr/local/lib/python3.6/dist-packages/numpy/lib/function_base.py:2531: RuntimeWarning: invalid value encountered in true_divide\n",
            "  c /= stddev[None, :]\n"
          ],
          "name": "stderr"
        },
        {
          "output_type": "stream",
          "text": [
            "Evaluated data points:  500\n",
            "Evaluated data points:  1000\n",
            "Evaluated data points:  1500\n",
            "Evaluated data points:  2000\n",
            "Evaluated data points:  2500\n",
            "Evaluated data points:  3000\n",
            "Evaluated data points:  3500\n",
            "Evaluated data points:  4000\n",
            "Evaluated data points:  4500\n",
            "Evaluated data points:  5000\n",
            "Evaluated data points:  5500\n",
            "Evaluated data points:  6000\n",
            "Evaluated data points:  6500\n",
            "Evaluated data points:  7000\n",
            "Evaluated data points:  7500\n",
            "Evaluated data points:  8000\n",
            "Evaluated data points:  8500\n",
            "Evaluated data points:  9000\n",
            "Evaluated data points:  9500\n",
            "Evaluated data points:  10000\n",
            "Evaluated data points:  10500\n",
            "Evaluated data points:  11000\n",
            "New users:  0\n",
            "Validation with K = 40, limit = 5\n",
            "Error with User CF:  0.6933369825601169\n",
            "Error Baseline:  0.8382069267864971\n"
          ],
          "name": "stdout"
        }
      ]
    }
  ]
}